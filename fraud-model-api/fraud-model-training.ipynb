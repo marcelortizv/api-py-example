{
 "cells": [
  {
   "cell_type": "code",
   "execution_count": 1,
   "metadata": {
    "collapsed": true
   },
   "outputs": [],
   "source": [
    "import warnings\n",
    "warnings.filterwarnings('ignore')\n",
    "warnings.simplefilter('ignore')"
   ]
  },
  {
   "cell_type": "code",
   "execution_count": 2,
   "outputs": [],
   "source": [
    "# import libraries\n",
    "import pandas as pd\n",
    "import numpy as np\n",
    "import matplotlib.pyplot as plt\n",
    "import seaborn as sns\n",
    "from itertools import product\n",
    "import string\n",
    "from tqdm import tqdm\n",
    "\n",
    "from imblearn.over_sampling import SMOTE\n",
    "from imblearn.over_sampling import BorderlineSMOTE\n",
    "from imblearn.pipeline import Pipeline\n",
    "\n",
    "\n",
    "from sklearn.model_selection import train_test_split\n",
    "from sklearn.metrics import  classification_report\n"
   ],
   "metadata": {
    "collapsed": false,
    "pycharm": {
     "name": "#%%\n"
    }
   }
  },
  {
   "cell_type": "code",
   "execution_count": 3,
   "outputs": [
    {
     "name": "stdout",
     "output_type": "stream",
     "text": [
      "Shape of dataset is:  (5050, 30)\n"
     ]
    }
   ],
   "source": [
    "# load dataset\n",
    "df = pd.read_csv('./data/chargebacks_sampledata.csv')\n",
    "\n",
    "print('Shape of dataset is: ', df.shape)"
   ],
   "metadata": {
    "collapsed": false,
    "pycharm": {
     "name": "#%%\n"
    }
   }
  },
  {
   "cell_type": "code",
   "execution_count": 4,
   "outputs": [
    {
     "name": "stdout",
     "output_type": "stream",
     "text": [
      "<class 'pandas.core.frame.DataFrame'>\n",
      "RangeIndex: 5050 entries, 0 to 5049\n",
      "Data columns (total 30 columns):\n",
      " #   Column  Non-Null Count  Dtype  \n",
      "---  ------  --------------  -----  \n",
      " 0   V1      5050 non-null   float64\n",
      " 1   V2      5050 non-null   float64\n",
      " 2   V3      5050 non-null   float64\n",
      " 3   V4      5050 non-null   float64\n",
      " 4   V5      5050 non-null   float64\n",
      " 5   V6      5050 non-null   float64\n",
      " 6   V7      5050 non-null   float64\n",
      " 7   V8      5050 non-null   float64\n",
      " 8   V9      5050 non-null   float64\n",
      " 9   V10     5050 non-null   float64\n",
      " 10  V11     5050 non-null   float64\n",
      " 11  V12     5050 non-null   float64\n",
      " 12  V13     5050 non-null   float64\n",
      " 13  V14     5050 non-null   float64\n",
      " 14  V15     5050 non-null   float64\n",
      " 15  V16     5050 non-null   float64\n",
      " 16  V17     5050 non-null   float64\n",
      " 17  V18     5050 non-null   float64\n",
      " 18  V19     5050 non-null   float64\n",
      " 19  V20     5050 non-null   float64\n",
      " 20  V21     5050 non-null   float64\n",
      " 21  V22     5050 non-null   float64\n",
      " 22  V23     5050 non-null   float64\n",
      " 23  V24     5050 non-null   float64\n",
      " 24  V25     5050 non-null   float64\n",
      " 25  V26     5050 non-null   float64\n",
      " 26  V27     5050 non-null   float64\n",
      " 27  V28     5050 non-null   float64\n",
      " 28  Amount  5050 non-null   float64\n",
      " 29  Class   5050 non-null   int64  \n",
      "dtypes: float64(29), int64(1)\n",
      "memory usage: 1.2 MB\n"
     ]
    }
   ],
   "source": [
    "df.info()"
   ],
   "metadata": {
    "collapsed": false,
    "pycharm": {
     "name": "#%%\n"
    }
   }
  },
  {
   "cell_type": "code",
   "execution_count": 5,
   "outputs": [
    {
     "data": {
      "text/plain": "         V1        V2        V3        V4        V5        V6        V7  \\\n0  1.725265 -1.337256 -1.012687 -0.361656 -1.431611 -1.098681 -0.842274   \n1  0.683254 -1.681875  0.533349 -0.326064 -1.455603  0.101832 -0.520590   \n2  1.067973 -0.656667  1.029738  0.253899 -1.172715  0.073232 -0.745771   \n3  0.119513  0.729275 -1.678879 -1.551408  3.128914  3.210632  0.356276   \n4  1.271253  0.275694  0.159568  1.003096 -0.128535 -0.608730  0.088777   \n\n         V8        V9       V10  ...       V21       V22       V23       V24  \\\n0 -0.026594 -0.032409  0.215113  ...  0.414524  0.793434  0.028887  0.419421   \n1  0.114036 -0.601760  0.444011  ...  0.116898 -0.304605 -0.125547  0.244848   \n2  0.249803  1.383057 -0.483771  ... -0.189315 -0.426743  0.079539  0.129692   \n3  0.920374 -0.160589 -0.801748  ... -0.335825 -0.906171  0.108350  0.593062   \n4 -0.145336  0.156047  0.022707  ...  0.031958  0.123503 -0.174528 -0.147535   \n\n        V25       V26       V27       V28  Amount  Class  \n0 -0.367529 -0.155634 -0.015768  0.010790  189.00      0  \n1  0.069163 -0.460712 -0.017068  0.063542  315.17      0  \n2  0.002778  0.970498 -0.035056  0.017313   59.98      0  \n3 -0.424303  0.164201  0.245881  0.071029    0.89      0  \n4  0.735909 -0.262270  0.015577  0.015955    6.53      0  \n\n[5 rows x 30 columns]",
      "text/html": "<div>\n<style scoped>\n    .dataframe tbody tr th:only-of-type {\n        vertical-align: middle;\n    }\n\n    .dataframe tbody tr th {\n        vertical-align: top;\n    }\n\n    .dataframe thead th {\n        text-align: right;\n    }\n</style>\n<table border=\"1\" class=\"dataframe\">\n  <thead>\n    <tr style=\"text-align: right;\">\n      <th></th>\n      <th>V1</th>\n      <th>V2</th>\n      <th>V3</th>\n      <th>V4</th>\n      <th>V5</th>\n      <th>V6</th>\n      <th>V7</th>\n      <th>V8</th>\n      <th>V9</th>\n      <th>V10</th>\n      <th>...</th>\n      <th>V21</th>\n      <th>V22</th>\n      <th>V23</th>\n      <th>V24</th>\n      <th>V25</th>\n      <th>V26</th>\n      <th>V27</th>\n      <th>V28</th>\n      <th>Amount</th>\n      <th>Class</th>\n    </tr>\n  </thead>\n  <tbody>\n    <tr>\n      <th>0</th>\n      <td>1.725265</td>\n      <td>-1.337256</td>\n      <td>-1.012687</td>\n      <td>-0.361656</td>\n      <td>-1.431611</td>\n      <td>-1.098681</td>\n      <td>-0.842274</td>\n      <td>-0.026594</td>\n      <td>-0.032409</td>\n      <td>0.215113</td>\n      <td>...</td>\n      <td>0.414524</td>\n      <td>0.793434</td>\n      <td>0.028887</td>\n      <td>0.419421</td>\n      <td>-0.367529</td>\n      <td>-0.155634</td>\n      <td>-0.015768</td>\n      <td>0.010790</td>\n      <td>189.00</td>\n      <td>0</td>\n    </tr>\n    <tr>\n      <th>1</th>\n      <td>0.683254</td>\n      <td>-1.681875</td>\n      <td>0.533349</td>\n      <td>-0.326064</td>\n      <td>-1.455603</td>\n      <td>0.101832</td>\n      <td>-0.520590</td>\n      <td>0.114036</td>\n      <td>-0.601760</td>\n      <td>0.444011</td>\n      <td>...</td>\n      <td>0.116898</td>\n      <td>-0.304605</td>\n      <td>-0.125547</td>\n      <td>0.244848</td>\n      <td>0.069163</td>\n      <td>-0.460712</td>\n      <td>-0.017068</td>\n      <td>0.063542</td>\n      <td>315.17</td>\n      <td>0</td>\n    </tr>\n    <tr>\n      <th>2</th>\n      <td>1.067973</td>\n      <td>-0.656667</td>\n      <td>1.029738</td>\n      <td>0.253899</td>\n      <td>-1.172715</td>\n      <td>0.073232</td>\n      <td>-0.745771</td>\n      <td>0.249803</td>\n      <td>1.383057</td>\n      <td>-0.483771</td>\n      <td>...</td>\n      <td>-0.189315</td>\n      <td>-0.426743</td>\n      <td>0.079539</td>\n      <td>0.129692</td>\n      <td>0.002778</td>\n      <td>0.970498</td>\n      <td>-0.035056</td>\n      <td>0.017313</td>\n      <td>59.98</td>\n      <td>0</td>\n    </tr>\n    <tr>\n      <th>3</th>\n      <td>0.119513</td>\n      <td>0.729275</td>\n      <td>-1.678879</td>\n      <td>-1.551408</td>\n      <td>3.128914</td>\n      <td>3.210632</td>\n      <td>0.356276</td>\n      <td>0.920374</td>\n      <td>-0.160589</td>\n      <td>-0.801748</td>\n      <td>...</td>\n      <td>-0.335825</td>\n      <td>-0.906171</td>\n      <td>0.108350</td>\n      <td>0.593062</td>\n      <td>-0.424303</td>\n      <td>0.164201</td>\n      <td>0.245881</td>\n      <td>0.071029</td>\n      <td>0.89</td>\n      <td>0</td>\n    </tr>\n    <tr>\n      <th>4</th>\n      <td>1.271253</td>\n      <td>0.275694</td>\n      <td>0.159568</td>\n      <td>1.003096</td>\n      <td>-0.128535</td>\n      <td>-0.608730</td>\n      <td>0.088777</td>\n      <td>-0.145336</td>\n      <td>0.156047</td>\n      <td>0.022707</td>\n      <td>...</td>\n      <td>0.031958</td>\n      <td>0.123503</td>\n      <td>-0.174528</td>\n      <td>-0.147535</td>\n      <td>0.735909</td>\n      <td>-0.262270</td>\n      <td>0.015577</td>\n      <td>0.015955</td>\n      <td>6.53</td>\n      <td>0</td>\n    </tr>\n  </tbody>\n</table>\n<p>5 rows × 30 columns</p>\n</div>"
     },
     "execution_count": 5,
     "metadata": {},
     "output_type": "execute_result"
    }
   ],
   "source": [
    "df.head()"
   ],
   "metadata": {
    "collapsed": false,
    "pycharm": {
     "name": "#%%\n"
    }
   }
  },
  {
   "cell_type": "markdown",
   "source": [
    "## Functions"
   ],
   "metadata": {
    "collapsed": false,
    "pycharm": {
     "name": "#%% md\n"
    }
   }
  },
  {
   "cell_type": "code",
   "execution_count": 6,
   "outputs": [],
   "source": [
    "def preprocess(df: pd.DataFrame) -> (np.ndarray, np.ndarray):\n",
    "    \"\"\"\n",
    "    Process the raw dataset into to sets, predictors and target\n",
    "    :param df: raw dataframe\n",
    "    :return:\n",
    "    X: predictors / features\n",
    "    y: outcome / target\n",
    "    \"\"\"\n",
    "\n",
    "    y = df['Class'].values\n",
    "    X = df.drop(['Class'], axis = 1)\n",
    "\n",
    "    return X, y\n",
    "\n",
    "def plot_data(df: pd.DataFrame, ind_var: list):\n",
    "    \"\"\"\n",
    "    Plot a scatter plot of data (two variables) and target\n",
    "    :param df: raw dataframe\n",
    "    :param ind_var: list with index of variables from matrix X\n",
    "    :return: A scatter plot\n",
    "    \"\"\"\n",
    "\n",
    "    if len(ind_var) != 2:\n",
    "        raise ValueError(\"Error, ind_var must be dimension 2\")\n",
    "    elif not all(item in list(df.columns) for item in ind_var):\n",
    "        raise ValueError(f\"Error, some columns in {ind_var} do not belong to columns of dataframe\")\n",
    "    else:\n",
    "        plt.scatter(df[str(ind_var[0])][df.Class == 0], df[str(ind_var[1])][df.Class == 0], label=\"Class #0\", alpha=0.5, linewidth=0.15)\n",
    "        plt.scatter(df[str(ind_var[0])][df.Class == 1], df[str(ind_var[1])][df.Class == 1], label=\"Class #1\", alpha=0.5, linewidth=0.15, c='r')\n",
    "        plt.legend()\n",
    "        return plt.show()"
   ],
   "metadata": {
    "collapsed": false,
    "pycharm": {
     "name": "#%%\n"
    }
   }
  },
  {
   "cell_type": "markdown",
   "source": [
    "### Class Imbalance Problem"
   ],
   "metadata": {
    "collapsed": false,
    "pycharm": {
     "name": "#%% md\n"
    }
   }
  },
  {
   "cell_type": "code",
   "execution_count": 7,
   "outputs": [
    {
     "name": "stdout",
     "output_type": "stream",
     "text": [
      "Ratio of fraudulent cases:  0.01% \n"
     ]
    }
   ],
   "source": [
    "# Fraud cases ratio\n",
    "print(f\"Ratio of fraudulent cases:  {df['Class'].mean():0.2f}% \")"
   ],
   "metadata": {
    "collapsed": false,
    "pycharm": {
     "name": "#%%\n"
    }
   }
  },
  {
   "cell_type": "code",
   "execution_count": 8,
   "outputs": [],
   "source": [
    "# split raw data in features and target\n",
    "X, y = preprocess(df)"
   ],
   "metadata": {
    "collapsed": false,
    "pycharm": {
     "name": "#%%\n"
    }
   }
  },
  {
   "cell_type": "code",
   "execution_count": 9,
   "outputs": [
    {
     "data": {
      "text/plain": "<Figure size 432x288 with 1 Axes>",
      "image/png": "[encoded data removed]"
     },
     "metadata": {
      "needs_background": "light"
     },
     "output_type": "display_data"
    }
   ],
   "source": [
    "# create a scatter plot of data and target\n",
    "cols = ['V2', 'V3']\n",
    "plot_data(df, cols)"
   ],
   "metadata": {
    "collapsed": false,
    "pycharm": {
     "name": "#%%\n"
    }
   }
  },
  {
   "cell_type": "code",
   "execution_count": 10,
   "outputs": [],
   "source": [
    "# Resampling method\n",
    "\n",
    "method = SMOTE()\n",
    "# Create the resampled feature set\n",
    "X_resampled, y_resampled = method.fit_resample(X, y)"
   ],
   "metadata": {
    "collapsed": false,
    "pycharm": {
     "name": "#%%\n"
    }
   }
  },
  {
   "cell_type": "code",
   "execution_count": 11,
   "outputs": [
    {
     "data": {
      "text/plain": "0    5000\n1      50\ndtype: int64"
     },
     "execution_count": 11,
     "metadata": {},
     "output_type": "execute_result"
    }
   ],
   "source": [
    "pd.value_counts(pd.Series(y))"
   ],
   "metadata": {
    "collapsed": false,
    "pycharm": {
     "name": "#%%\n"
    }
   }
  },
  {
   "cell_type": "code",
   "execution_count": 12,
   "outputs": [
    {
     "data": {
      "text/plain": "0    5000\n1    5000\ndtype: int64"
     },
     "execution_count": 12,
     "metadata": {},
     "output_type": "execute_result"
    }
   ],
   "source": [
    "pd.value_counts(pd.Series(y_resampled))"
   ],
   "metadata": {
    "collapsed": false,
    "pycharm": {
     "name": "#%%\n"
    }
   }
  },
  {
   "cell_type": "code",
   "execution_count": 13,
   "outputs": [
    {
     "data": {
      "text/plain": "<Figure size 432x288 with 1 Axes>",
      "image/png": "[encoded data removed]"
     },
     "metadata": {
      "needs_background": "light"
     },
     "output_type": "display_data"
    }
   ],
   "source": [
    "df_resampled = pd.DataFrame(pd.np.column_stack([X_resampled, y_resampled]), columns=df.columns)\n",
    "# Plot the resampled data\n",
    "plot_data(df_resampled, cols)"
   ],
   "metadata": {
    "collapsed": false,
    "pycharm": {
     "name": "#%%\n"
    }
   }
  },
  {
   "cell_type": "markdown",
   "source": [
    "## ML Model"
   ],
   "metadata": {
    "collapsed": false,
    "pycharm": {
     "name": "#%% md\n"
    }
   }
  },
  {
   "cell_type": "code",
   "execution_count": 14,
   "outputs": [],
   "source": [
    "from sklearn.linear_model import SGDClassifier\n",
    "from sklearn.linear_model import LogisticRegression\n",
    "from sklearn.ensemble import RandomForestClassifier\n",
    "from sklearn.svm import LinearSVC\n",
    "from sklearn.naive_bayes import MultinomialNB\n",
    "import xgboost as xgb\n",
    "xgb.set_config(verbosity=0)"
   ],
   "metadata": {
    "collapsed": false,
    "pycharm": {
     "name": "#%%\n"
    }
   }
  },
  {
   "cell_type": "code",
   "execution_count": 15,
   "outputs": [],
   "source": [
    "#functions\n",
    "def report(y_true, y_pred):\n",
    "    \"\"\"\n",
    "    Classification report based on scikit-learn\n",
    "    :param y_true: ground truth\n",
    "    :param y_pred: prediction\n",
    "    :return: Classication Report\n",
    "    \"\"\"\n",
    "    target_names = ['No Fraud','Fraud'] # you can change this passing it as parameter of the function ;)\n",
    "    return print(classification_report(y_true, y_pred, target_names=target_names))\n",
    "\n",
    "def print_ml_score(y_test, y_pred, clf):\n",
    "    print('Classifier: ', clf.__class__.__name__)\n",
    "    report(y_test, y_pred)\n",
    "    print(\"---------------------------------------------------------\")\n",
    "\n",
    "\n",
    "def train_model(classifier, feature_vector_train, label_train, feature_vector_test, label_test, resampling = False):\n",
    "\n",
    "    if resampling:\n",
    "        method = BorderlineSMOTE()\n",
    "        pipeline = Pipeline([('SMOTE', method), (str(classifier.__class__.__name__), classifier)])\n",
    "\n",
    "        pipeline.fit(feature_vector_train, label_train)\n",
    "        predictions = pipeline.predict(feature_vector_test)\n",
    "        return print_ml_score(label_test, predictions, classifier)\n",
    "\n",
    "    else:\n",
    "        # fit the training set on the classifier\n",
    "        classifier.fit(feature_vector_train, label_train)\n",
    "\n",
    "        # predict the labels on test set\n",
    "        predictions = classifier.predict(feature_vector_test)\n",
    "\n",
    "        return print_ml_score(label_test, predictions, classifier)"
   ],
   "metadata": {
    "collapsed": false,
    "pycharm": {
     "name": "#%%\n"
    }
   }
  },
  {
   "cell_type": "code",
   "execution_count": 16,
   "outputs": [],
   "source": [
    "# set models\n",
    "sgd = SGDClassifier(loss='log')\n",
    "lr = LogisticRegression(solver = 'lbfgs')\n",
    "svc = LinearSVC()\n",
    "rf = RandomForestClassifier()\n",
    "xgboost = xgb.XGBClassifier()\n"
   ],
   "metadata": {
    "collapsed": false,
    "pycharm": {
     "name": "#%%\n"
    }
   }
  },
  {
   "cell_type": "code",
   "execution_count": 17,
   "outputs": [],
   "source": [
    "# Split your data into training and test set\n",
    "X_train, X_test, y_train, y_test = train_test_split(X, y, test_size=0.3, random_state=123)"
   ],
   "metadata": {
    "collapsed": false,
    "pycharm": {
     "name": "#%%\n"
    }
   }
  },
  {
   "cell_type": "code",
   "execution_count": 18,
   "outputs": [
    {
     "name": "stderr",
     "output_type": "stream",
     "text": [
      "Training: 100%|##########| 5/5 [00:00<00:00,  6.75it/s]\n"
     ]
    },
    {
     "name": "stdout",
     "output_type": "stream",
     "text": [
      "Classifier:  SGDClassifier\n",
      "              precision    recall  f1-score   support\n",
      "\n",
      "    No Fraud       0.99      1.00      1.00      1493\n",
      "       Fraud       0.93      0.59      0.72        22\n",
      "\n",
      "    accuracy                           0.99      1515\n",
      "   macro avg       0.96      0.80      0.86      1515\n",
      "weighted avg       0.99      0.99      0.99      1515\n",
      "\n",
      "---------------------------------------------------------\n",
      "Classifier:  LogisticRegression\n",
      "              precision    recall  f1-score   support\n",
      "\n",
      "    No Fraud       1.00      1.00      1.00      1493\n",
      "       Fraud       1.00      0.68      0.81        22\n",
      "\n",
      "    accuracy                           1.00      1515\n",
      "   macro avg       1.00      0.84      0.90      1515\n",
      "weighted avg       1.00      1.00      0.99      1515\n",
      "\n",
      "---------------------------------------------------------\n",
      "Classifier:  LinearSVC\n",
      "              precision    recall  f1-score   support\n",
      "\n",
      "    No Fraud       0.99      0.96      0.98      1493\n",
      "       Fraud       0.20      0.64      0.31        22\n",
      "\n",
      "    accuracy                           0.96      1515\n",
      "   macro avg       0.60      0.80      0.64      1515\n",
      "weighted avg       0.98      0.96      0.97      1515\n",
      "\n",
      "---------------------------------------------------------\n",
      "Classifier:  RandomForestClassifier\n",
      "              precision    recall  f1-score   support\n",
      "\n",
      "    No Fraud       1.00      1.00      1.00      1493\n",
      "       Fraud       1.00      0.73      0.84        22\n",
      "\n",
      "    accuracy                           1.00      1515\n",
      "   macro avg       1.00      0.86      0.92      1515\n",
      "weighted avg       1.00      1.00      1.00      1515\n",
      "\n",
      "---------------------------------------------------------\n",
      "Classifier:  XGBClassifier\n",
      "              precision    recall  f1-score   support\n",
      "\n",
      "    No Fraud       1.00      1.00      1.00      1493\n",
      "       Fraud       0.94      0.73      0.82        22\n",
      "\n",
      "    accuracy                           1.00      1515\n",
      "   macro avg       0.97      0.86      0.91      1515\n",
      "weighted avg       1.00      1.00      1.00      1515\n",
      "\n",
      "---------------------------------------------------------\n"
     ]
    }
   ],
   "source": [
    "\n",
    "# training without using SMOTE\n",
    "for classifier in tqdm([sgd, lr, svc, rf, xgboost], ascii = True, desc = 'Training'):\n",
    "    try:\n",
    "        train_model(classifier, X_train, y_train, X_test, y_test)\n",
    "    except :\n",
    "        print(f'Unable to train classifier {classifier}')\n",
    "        pass"
   ],
   "metadata": {
    "collapsed": false,
    "pycharm": {
     "name": "#%%\n"
    }
   }
  },
  {
   "cell_type": "code",
   "execution_count": 19,
   "outputs": [
    {
     "name": "stderr",
     "output_type": "stream",
     "text": [
      "Training: 100%|##########| 5/5 [00:01<00:00,  2.94it/s]\n"
     ]
    },
    {
     "name": "stdout",
     "output_type": "stream",
     "text": [
      "Classifier:  SGDClassifier\n",
      "              precision    recall  f1-score   support\n",
      "\n",
      "    No Fraud       1.00      1.00      1.00      1493\n",
      "       Fraud       0.95      0.95      0.95        22\n",
      "\n",
      "    accuracy                           1.00      1515\n",
      "   macro avg       0.98      0.98      0.98      1515\n",
      "weighted avg       1.00      1.00      1.00      1515\n",
      "\n",
      "---------------------------------------------------------\n",
      "Classifier:  LogisticRegression\n",
      "              precision    recall  f1-score   support\n",
      "\n",
      "    No Fraud       1.00      1.00      1.00      1493\n",
      "       Fraud       1.00      0.82      0.90        22\n",
      "\n",
      "    accuracy                           1.00      1515\n",
      "   macro avg       1.00      0.91      0.95      1515\n",
      "weighted avg       1.00      1.00      1.00      1515\n",
      "\n",
      "---------------------------------------------------------\n",
      "Classifier:  LinearSVC\n",
      "              precision    recall  f1-score   support\n",
      "\n",
      "    No Fraud       1.00      0.97      0.98      1493\n",
      "       Fraud       0.29      0.73      0.41        22\n",
      "\n",
      "    accuracy                           0.97      1515\n",
      "   macro avg       0.64      0.85      0.70      1515\n",
      "weighted avg       0.99      0.97      0.98      1515\n",
      "\n",
      "---------------------------------------------------------\n",
      "Classifier:  RandomForestClassifier\n",
      "              precision    recall  f1-score   support\n",
      "\n",
      "    No Fraud       1.00      1.00      1.00      1493\n",
      "       Fraud       1.00      0.86      0.93        22\n",
      "\n",
      "    accuracy                           1.00      1515\n",
      "   macro avg       1.00      0.93      0.96      1515\n",
      "weighted avg       1.00      1.00      1.00      1515\n",
      "\n",
      "---------------------------------------------------------\n",
      "Classifier:  XGBClassifier\n",
      "              precision    recall  f1-score   support\n",
      "\n",
      "    No Fraud       1.00      1.00      1.00      1493\n",
      "       Fraud       0.94      0.77      0.85        22\n",
      "\n",
      "    accuracy                           1.00      1515\n",
      "   macro avg       0.97      0.89      0.92      1515\n",
      "weighted avg       1.00      1.00      1.00      1515\n",
      "\n",
      "---------------------------------------------------------\n"
     ]
    }
   ],
   "source": [
    "# training using SMOTE\n",
    "for classifier in tqdm([sgd, lr, svc, rf, xgboost], ascii = True, desc = 'Training'):\n",
    "    try:\n",
    "        train_model(classifier, X_train, y_train, X_test, y_test, resampling=True)\n",
    "    except :\n",
    "        print(f'Unable to train classifier {classifier}')\n",
    "        pass"
   ],
   "metadata": {
    "collapsed": false,
    "pycharm": {
     "name": "#%%\n"
    }
   }
  },
  {
   "cell_type": "markdown",
   "source": [
    "Preferred model is SGDClassifier. F1-score = 0.95 and similar to Logistic Regression,\n",
    "but we value better recall without loss of precision.\n",
    "***\n",
    "### Training preferred model with all data"
   ],
   "metadata": {
    "collapsed": false,
    "pycharm": {
     "name": "#%% md\n"
    }
   }
  },
  {
   "cell_type": "code",
   "execution_count": 20,
   "outputs": [],
   "source": [
    "import pickle"
   ],
   "metadata": {
    "collapsed": false,
    "pycharm": {
     "name": "#%%\n"
    }
   }
  },
  {
   "cell_type": "code",
   "execution_count": 21,
   "outputs": [],
   "source": [
    "model = SGDClassifier(loss='log')\n",
    "filename = 'SGD_fraud_v01'\n",
    "\n",
    "model.fit(X_resampled, y_resampled)\n",
    "\n",
    "# save model and columns\n",
    "pickle.dump(model, open(filename + '.pkl', 'wb'))\n",
    "pickle.dump(list(X_resampled.columns), open(filename + '_columns.pkl', 'wb'))"
   ],
   "metadata": {
    "collapsed": false,
    "pycharm": {
     "name": "#%%\n"
    }
   }
  },
  {
   "cell_type": "markdown",
   "source": [
    "***"
   ],
   "metadata": {
    "collapsed": false,
    "pycharm": {
     "name": "#%% md\n"
    }
   }
  },
  {
   "cell_type": "code",
   "execution_count": 22,
   "outputs": [
    {
     "name": "stdout",
     "output_type": "stream",
     "text": [
      "\"V1\":1.17403380162894,\n",
      "\"V2\":1.09073108612255,\n",
      "\"V3\":0.159568036492662,\n",
      "\"V4\":-2.5765378018631098,\n",
      "\"V5\":0.3221316531258458,\n",
      "\"V6\":-1.09868096845893,\n",
      "\"V7\":1.39617097701173,\n",
      "\"V8\":10.680228157487786,\n",
      "\"V9\":-2.7374772668411604,\n",
      "\"V10\":-4.1270080735468735,\n",
      "\"V11\":2.539248348923892,\n",
      "\"V12\":0.9242708400448192,\n",
      "\"V13\":-0.8906837879058852,\n",
      "\"V14\":-6.239019587426273,\n",
      "\"V15\":-0.576421041161615,\n",
      "\"V16\":1.48010466724106,\n",
      "\"V17\":-0.038321515125533,\n",
      "\"V18\":0.3050657211443919,\n",
      "\"V19\":1.274316353457935,\n",
      "\"V20\":-0.0768246022599371,\n",
      "\"V21\":2.430660837989774,\n",
      "\"V22\":0.1982423297059789,\n",
      "\"V23\":-0.5528670967342183,\n",
      "\"V24\":0.0314408079315873,\n",
      "\"V25\":0.577271588685393,\n",
      "\"V26\":0.144516154187567,\n",
      "\"V27\":0.22074265494422812,\n",
      "\"V28\":0.18203589212517324,\n",
      "\"Amount\":8.73,\n"
     ]
    }
   ],
   "source": [
    "columns = list(X_resampled.columns)\n",
    "for col in columns:\n",
    "    print('\"' +str(col) + '\":'+ str(np.random.choice(X_resampled.loc[:,col])) +',')"
   ],
   "metadata": {
    "collapsed": false,
    "pycharm": {
     "name": "#%%\n"
    }
   }
  },
  {
   "cell_type": "code",
   "execution_count": 23,
   "outputs": [
    {
     "name": "stdout",
     "output_type": "stream",
     "text": [
      "\"V1\":0.6832538454079009,\n",
      "\"V2\":-1.68187485991481,\n",
      "\"V3\":0.53334933577086,\n",
      "\"V4\":-0.326064340653769,\n",
      "\"V5\":-1.45560260160191,\n",
      "\"V6\":0.101831722110939,\n",
      "\"V7\":-0.5205903667987639,\n",
      "\"V8\":0.114036026045546,\n",
      "\"V9\":-0.601759616975508,\n",
      "\"V10\":0.444011204590068,\n",
      "\"V11\":1.52157013178839,\n",
      "\"V12\":0.4992021191243189,\n",
      "\"V13\":-0.127848980889118,\n",
      "\"V14\":-0.237253049253843,\n",
      "\"V15\":-0.75235122116744,\n",
      "\"V16\":0.667190352382783,\n",
      "\"V17\":0.724785310333877,\n",
      "\"V18\":-1.73661452784482,\n",
      "\"V19\":0.7020878391427021,\n",
      "\"V20\":0.638185555288354,\n",
      "\"V21\":0.116897941580908,\n",
      "\"V22\":-0.3046053731155769,\n",
      "\"V23\":-0.1255469631189419,\n",
      "\"V24\":0.244847767679686,\n",
      "\"V25\":0.0691630813041917,\n",
      "\"V26\":-0.460711620731197,\n",
      "\"V27\":-0.0170682293222289,\n",
      "\"V28\":0.0635420639739848,\n",
      "\"Amount\":315.17,\n"
     ]
    }
   ],
   "source": [
    "columns = list(X_resampled.columns)\n",
    "for col in columns:\n",
    "    print('\"' +str(col) + '\":'+ str(X_resampled.loc[1,col]) +',')"
   ],
   "metadata": {
    "collapsed": false,
    "pycharm": {
     "name": "#%%\n"
    }
   }
  },
  {
   "cell_type": "code",
   "execution_count": 24,
   "outputs": [],
   "source": [
    "json_ = [{'V1': np.nan, 'V2': -1.43225869856495, 'V3': 1.95607887989403, 'V4': -0.258231036668674, 'V5': -5.896119440000307, 'V6': -1.8517553761985188, 'V7': -4.235839415790032, 'V8': 0.687242606474879, 'V9': -5.7933307530985365, 'V10': -5.316372403859759, 'V11': 0.8110497886780909, 'V12': 0.0830656374645626, 'V13': -0.146626370050388, 'V14': -1.1829519894761398, 'V15': 0.9239604444815511, 'V16': -4.021244409795624, 'V17': -6.786643169835182, 'V18': 1.2438235927231205, 'V19': 1.42083182764595, 'V20': 0.057345588992596355, 'V21': -0.5485304989009268, 'V22': 0.35635650993584, 'V23': -0.4309598712491403, 'V24': -0.0240018536375142, 'V25': 0.9834488075753347, 'V26': -0.198345344853653, 'V27': 0.009782539172068061, 'V28': 0.104109846031111, 'Amount': 1.5830512496148925}, {'V1': -1.6841065627483742, 'V2': 0.698885000899715, 'V3': -10.0851415819302, 'V4': 3.0899480964181603, 'V5': 1.05979450318793, 'V6': -3.274736474452697, 'V7': -1.0930959468210135, 'V8': -0.28191611355874346, 'V9': 5.813533604446991, 'V10': -1.36581514177394, 'V11': 0.488541766846198, 'V12': -16.21846972842175, 'V13': 0.839442365945037, 'V14': -1.43266303301096, 'V15': -0.113327567664964, 'V16': -6.6455876605655515, 'V17': -9.218178614181765, 'V18': -4.460612735303185, 'V19': 0.560043231991022, 'V20': -0.003740387424139, 'V21': 0.06608211137125, 'V22': 0.212199763393852, 'V23': 0.333494646289208, 'V24': 0.3218951603717, 'V25': -0.5382975941716359, 'V26': 0.0233908620378539, 'V27': 0.013928262013243545, 'V28': 0.15285589352060108, 'Amount': 4.99}]"
   ],
   "metadata": {
    "collapsed": false,
    "pycharm": {
     "name": "#%%\n"
    }
   }
  },
  {
   "cell_type": "code",
   "execution_count": 25,
   "outputs": [],
   "source": [
    "model = pickle.load(open('SGD_fraud_v01.pkl', 'rb'))\n",
    "model_columns = pickle.load(open('SGD_fraud_v01_columns.pkl', 'rb'))\n",
    "query = pd.DataFrame(json_)\n",
    "query = query.append(pd.DataFrame(X_resampled.iloc[1,:]).T, ignore_index=True)\n",
    "query = query.fillna(0)\n",
    "query = query.reindex(columns=model_columns, fill_value=0)"
   ],
   "metadata": {
    "collapsed": false,
    "pycharm": {
     "name": "#%%\n"
    }
   }
  },
  {
   "cell_type": "code",
   "execution_count": 26,
   "outputs": [
    {
     "data": {
      "text/plain": "         V1        V2         V3        V4        V5        V6        V7  \\\n0  0.000000 -1.432259   1.956079 -0.258231 -5.896119 -1.851755 -4.235839   \n1 -1.684107  0.698885 -10.085142  3.089948  1.059795 -3.274736 -1.093096   \n2  0.683254 -1.681875   0.533349 -0.326064 -1.455603  0.101832 -0.520590   \n\n         V8        V9       V10  ...       V20       V21       V22       V23  \\\n0  0.687243 -5.793331 -5.316372  ...  0.057346 -0.548530  0.356357 -0.430960   \n1 -0.281916  5.813534 -1.365815  ... -0.003740  0.066082  0.212200  0.333495   \n2  0.114036 -0.601760  0.444011  ...  0.638186  0.116898 -0.304605 -0.125547   \n\n        V24       V25       V26       V27       V28      Amount  \n0 -0.024002  0.983449 -0.198345  0.009783  0.104110    1.583051  \n1  0.321895 -0.538298  0.023391  0.013928  0.152856    4.990000  \n2  0.244848  0.069163 -0.460712 -0.017068  0.063542  315.170000  \n\n[3 rows x 29 columns]",
      "text/html": "<div>\n<style scoped>\n    .dataframe tbody tr th:only-of-type {\n        vertical-align: middle;\n    }\n\n    .dataframe tbody tr th {\n        vertical-align: top;\n    }\n\n    .dataframe thead th {\n        text-align: right;\n    }\n</style>\n<table border=\"1\" class=\"dataframe\">\n  <thead>\n    <tr style=\"text-align: right;\">\n      <th></th>\n      <th>V1</th>\n      <th>V2</th>\n      <th>V3</th>\n      <th>V4</th>\n      <th>V5</th>\n      <th>V6</th>\n      <th>V7</th>\n      <th>V8</th>\n      <th>V9</th>\n      <th>V10</th>\n      <th>...</th>\n      <th>V20</th>\n      <th>V21</th>\n      <th>V22</th>\n      <th>V23</th>\n      <th>V24</th>\n      <th>V25</th>\n      <th>V26</th>\n      <th>V27</th>\n      <th>V28</th>\n      <th>Amount</th>\n    </tr>\n  </thead>\n  <tbody>\n    <tr>\n      <th>0</th>\n      <td>0.000000</td>\n      <td>-1.432259</td>\n      <td>1.956079</td>\n      <td>-0.258231</td>\n      <td>-5.896119</td>\n      <td>-1.851755</td>\n      <td>-4.235839</td>\n      <td>0.687243</td>\n      <td>-5.793331</td>\n      <td>-5.316372</td>\n      <td>...</td>\n      <td>0.057346</td>\n      <td>-0.548530</td>\n      <td>0.356357</td>\n      <td>-0.430960</td>\n      <td>-0.024002</td>\n      <td>0.983449</td>\n      <td>-0.198345</td>\n      <td>0.009783</td>\n      <td>0.104110</td>\n      <td>1.583051</td>\n    </tr>\n    <tr>\n      <th>1</th>\n      <td>-1.684107</td>\n      <td>0.698885</td>\n      <td>-10.085142</td>\n      <td>3.089948</td>\n      <td>1.059795</td>\n      <td>-3.274736</td>\n      <td>-1.093096</td>\n      <td>-0.281916</td>\n      <td>5.813534</td>\n      <td>-1.365815</td>\n      <td>...</td>\n      <td>-0.003740</td>\n      <td>0.066082</td>\n      <td>0.212200</td>\n      <td>0.333495</td>\n      <td>0.321895</td>\n      <td>-0.538298</td>\n      <td>0.023391</td>\n      <td>0.013928</td>\n      <td>0.152856</td>\n      <td>4.990000</td>\n    </tr>\n    <tr>\n      <th>2</th>\n      <td>0.683254</td>\n      <td>-1.681875</td>\n      <td>0.533349</td>\n      <td>-0.326064</td>\n      <td>-1.455603</td>\n      <td>0.101832</td>\n      <td>-0.520590</td>\n      <td>0.114036</td>\n      <td>-0.601760</td>\n      <td>0.444011</td>\n      <td>...</td>\n      <td>0.638186</td>\n      <td>0.116898</td>\n      <td>-0.304605</td>\n      <td>-0.125547</td>\n      <td>0.244848</td>\n      <td>0.069163</td>\n      <td>-0.460712</td>\n      <td>-0.017068</td>\n      <td>0.063542</td>\n      <td>315.170000</td>\n    </tr>\n  </tbody>\n</table>\n<p>3 rows × 29 columns</p>\n</div>"
     },
     "execution_count": 26,
     "metadata": {},
     "output_type": "execute_result"
    }
   ],
   "source": [
    "query"
   ],
   "metadata": {
    "collapsed": false,
    "pycharm": {
     "name": "#%%\n"
    }
   }
  },
  {
   "cell_type": "code",
   "execution_count": 27,
   "outputs": [
    {
     "data": {
      "text/plain": "[1, 1, 0]"
     },
     "execution_count": 27,
     "metadata": {},
     "output_type": "execute_result"
    }
   ],
   "source": [
    "prediction = list(model.predict(query))\n",
    "prediction"
   ],
   "metadata": {
    "collapsed": false,
    "pycharm": {
     "name": "#%%\n"
    }
   }
  }
 ],
 "metadata": {
  "kernelspec": {
   "display_name": "Python 3",
   "language": "python",
   "name": "python3"
  },
  "language_info": {
   "codemirror_mode": {
    "name": "ipython",
    "version": 2
   },
   "file_extension": ".py",
   "mimetype": "text/x-python",
   "name": "python",
   "nbconvert_exporter": "python",
   "pygments_lexer": "ipython2",
   "version": "2.7.6"
  }
 },
 "nbformat": 4,
 "nbformat_minor": 0
}